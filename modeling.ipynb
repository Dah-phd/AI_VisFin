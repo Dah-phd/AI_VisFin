{
 "metadata": {
  "language_info": {
   "codemirror_mode": {
    "name": "ipython",
    "version": 3
   },
   "file_extension": ".py",
   "mimetype": "text/x-python",
   "name": "python",
   "nbconvert_exporter": "python",
   "pygments_lexer": "ipython3",
   "version": "3.8.10"
  },
  "orig_nbformat": 2,
  "kernelspec": {
   "name": "python3",
   "display_name": "Python 3.8.10 64-bit"
  },
  "interpreter": {
   "hash": "31f2aee4e71d21fbe5cf8b01ff0e069b9275f58929596ceb00d14d90e3e16cd6"
  }
 },
 "nbformat": 4,
 "nbformat_minor": 2,
 "cells": [
  {
   "cell_type": "code",
   "execution_count": 11,
   "source": [
    "from tensorflow import keras, expand_dims\n",
    "import numpy as np\n",
    "model_name = 'VisFin_v5.h5'"
   ],
   "outputs": [],
   "metadata": {}
  },
  {
   "cell_type": "code",
   "execution_count": 12,
   "source": [
    "def make_new_model(dropout = 0):\n",
    "    model = keras.Sequential()\n",
    "    model.add(keras.layers.Conv2D(9, kernel_size = (9,18),padding='same', input_shape=(201, 43, 1), activation='elu'))\n",
    "    model.add(keras.layers.Conv2D(9, kernel_size = (9,18), padding='same', activation='elu'))\n",
    "    model.add(keras.layers.MaxPooling2D())\n",
    "    model.add(keras.layers.Conv2D(9, kernel_size = (6,12),padding='same', activation='elu'))\n",
    "    model.add(keras.layers.MaxPooling2D())\n",
    "    model.add(keras.layers.Flatten())\n",
    "    model.add(keras.layers.Dense(84, activation='elu'))\n",
    "    model.add(keras.layers.Dense(42, activation='elu'))\n",
    "    model.add(keras.layers.Dense(7,activation='softmax'))\n",
    "    model.compile(optimizer='adam',loss='categorical_crossentropy', metrics=['accuracy'])\n",
    "    return model\n"
   ],
   "outputs": [],
   "metadata": {}
  },
  {
   "cell_type": "code",
   "execution_count": 13,
   "source": [
    "from modules.data_feed import *\n",
    "modeling = PrepareData('daily__us__nasdaq_stocks.csv', '<DATE>', skip=5)\n",
    "modeling.clean_db()"
   ],
   "outputs": [],
   "metadata": {}
  },
  {
   "cell_type": "code",
   "execution_count": 14,
   "source": [
    "try:\n",
    "    VisCV = keras.models.load_model(model_name)\n",
    "    print('Loading!')\n",
    "except OSError:\n",
    "    VisCV = make_new_model(dropout=0.3)\n",
    "    print('Compiling!')"
   ],
   "outputs": [
    {
     "output_type": "stream",
     "name": "stdout",
     "text": [
      "Loading!\n"
     ]
    }
   ],
   "metadata": {}
  },
  {
   "cell_type": "code",
   "execution_count": 15,
   "source": [
    "# TRAINING\n",
    "data = modeling.mass_hacking(tick=1, horizon=42)\n",
    "print(data)\n",
    "tr_data = expand_dims(np.array(data[0]),axis=-1)\n",
    "tr_key = np.array(data[1])\n",
    "if tr_data.shape[0] > 0:\n",
    "    VisCV.fit(tr_data, tr_key, epochs=3, verbose=2)\n",
    "VisCV.save(model_name)\n"
   ],
   "outputs": [
    {
     "output_type": "error",
     "ename": "TypeError",
     "evalue": "mass_hacking() got an unexpected keyword argument 'skip'",
     "traceback": [
      "\u001b[0;31m---------------------------------------------------------------------------\u001b[0m",
      "\u001b[0;31mTypeError\u001b[0m                                 Traceback (most recent call last)",
      "\u001b[0;32m<ipython-input-15-d801003c07f6>\u001b[0m in \u001b[0;36m<module>\u001b[0;34m\u001b[0m\n\u001b[1;32m      1\u001b[0m \u001b[0;31m# TRAINING\u001b[0m\u001b[0;34m\u001b[0m\u001b[0;34m\u001b[0m\u001b[0;34m\u001b[0m\u001b[0m\n\u001b[0;32m----> 2\u001b[0;31m \u001b[0mdata\u001b[0m \u001b[0;34m=\u001b[0m \u001b[0mmodeling\u001b[0m\u001b[0;34m.\u001b[0m\u001b[0mmass_hacking\u001b[0m\u001b[0;34m(\u001b[0m\u001b[0mtick\u001b[0m\u001b[0;34m=\u001b[0m\u001b[0;36m1\u001b[0m\u001b[0;34m,\u001b[0m \u001b[0mhorizon\u001b[0m\u001b[0;34m=\u001b[0m\u001b[0;36m42\u001b[0m\u001b[0;34m,\u001b[0m \u001b[0mskip\u001b[0m\u001b[0;34m=\u001b[0m\u001b[0;36m5\u001b[0m\u001b[0;34m)\u001b[0m\u001b[0;34m\u001b[0m\u001b[0;34m\u001b[0m\u001b[0m\n\u001b[0m\u001b[1;32m      3\u001b[0m \u001b[0mprint\u001b[0m\u001b[0;34m(\u001b[0m\u001b[0mdata\u001b[0m\u001b[0;34m)\u001b[0m\u001b[0;34m\u001b[0m\u001b[0;34m\u001b[0m\u001b[0m\n\u001b[1;32m      4\u001b[0m \u001b[0mtr_data\u001b[0m \u001b[0;34m=\u001b[0m \u001b[0mexpand_dims\u001b[0m\u001b[0;34m(\u001b[0m\u001b[0mnp\u001b[0m\u001b[0;34m.\u001b[0m\u001b[0marray\u001b[0m\u001b[0;34m(\u001b[0m\u001b[0mdata\u001b[0m\u001b[0;34m[\u001b[0m\u001b[0;36m0\u001b[0m\u001b[0;34m]\u001b[0m\u001b[0;34m)\u001b[0m\u001b[0;34m,\u001b[0m\u001b[0maxis\u001b[0m\u001b[0;34m=\u001b[0m\u001b[0;34m-\u001b[0m\u001b[0;36m1\u001b[0m\u001b[0;34m)\u001b[0m\u001b[0;34m\u001b[0m\u001b[0;34m\u001b[0m\u001b[0m\n\u001b[1;32m      5\u001b[0m \u001b[0mtr_key\u001b[0m \u001b[0;34m=\u001b[0m \u001b[0mnp\u001b[0m\u001b[0;34m.\u001b[0m\u001b[0marray\u001b[0m\u001b[0;34m(\u001b[0m\u001b[0mdata\u001b[0m\u001b[0;34m[\u001b[0m\u001b[0;36m1\u001b[0m\u001b[0;34m]\u001b[0m\u001b[0;34m)\u001b[0m\u001b[0;34m\u001b[0m\u001b[0;34m\u001b[0m\u001b[0m\n",
      "\u001b[0;31mTypeError\u001b[0m: mass_hacking() got an unexpected keyword argument 'skip'"
     ]
    }
   ],
   "metadata": {
    "tags": []
   }
  },
  {
   "cell_type": "code",
   "execution_count": null,
   "source": [
    "# EVALUATE\n",
    "data = modeling.mass_hacking(tick=0, horizon=84)\n",
    "tr_data = expand_dims(np.array(data[0]),axis=-1)\n",
    "tr_key = np.array(data[1])\n",
    "eval_ = VisCV.evaluate(tr_data,tr_key, verbose=1)\n",
    "print(model_name+': ',eval_[0], eval_[1])"
   ],
   "outputs": [],
   "metadata": {}
  },
  {
   "cell_type": "code",
   "execution_count": null,
   "source": [
    "# # # convert to JS\n",
    "# import tensorflowjs\n",
    "# # tensorflowjs.converters.save_keras_model(VisFin0, 'js_format\\\\VisFin_0')\n",
    "# # tensorflowjs.converters.save_keras_model(VisFin1, 'js_format\\\\VisFin_1')\n",
    "# # tensorflowjs.converters.save_keras_model(VisFin2, 'js_format\\\\VisFin_2')\n",
    "# # tensorflowjs.converters.save_keras_model(VisFin3, 'js_format\\\\VisFin_3')\n"
   ],
   "outputs": [],
   "metadata": {}
  }
 ]
}