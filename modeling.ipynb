{
 "metadata": {
  "language_info": {
   "codemirror_mode": {
    "name": "ipython",
    "version": 3
   },
   "file_extension": ".py",
   "mimetype": "text/x-python",
   "name": "python",
   "nbconvert_exporter": "python",
   "pygments_lexer": "ipython3",
   "version": "3.8.10"
  },
  "orig_nbformat": 2,
  "kernelspec": {
   "name": "python3",
   "display_name": "Python 3.8.10 64-bit"
  },
  "interpreter": {
   "hash": "31f2aee4e71d21fbe5cf8b01ff0e069b9275f58929596ceb00d14d90e3e16cd6"
  }
 },
 "nbformat": 4,
 "nbformat_minor": 2,
 "cells": [
  {
   "cell_type": "code",
   "execution_count": 19,
   "source": [
    "from tensorflow import keras, expand_dims\n",
    "import numpy as np\n",
    "from modules import data_feed\n",
    "model_name = 'VisFin_v5.h5'\n"
   ],
   "outputs": [],
   "metadata": {}
  },
  {
   "cell_type": "code",
   "execution_count": 20,
   "source": [
    "def make_new_model(dropout = 0):\n",
    "    model = keras.Sequential()\n",
    "    model.add(keras.layers.Conv2D(9, kernel_size = (9,18),padding='same', input_shape=(201, 43, 1), activation='elu'))\n",
    "    model.add(keras.layers.Dropout(dropout))\n",
    "    model.add(keras.layers.Conv2D(9, kernel_size = (9,18), padding='same', activation='elu'))\n",
    "    model.add(keras.layers.Dropout(dropout))\n",
    "    model.add(keras.layers.MaxPooling2D())\n",
    "    model.add(keras.layers.Conv2D(9, kernel_size = (6,12),padding='same', activation='elu'))\n",
    "    model.add(keras.layers.Dropout(dropout))\n",
    "    model.add(keras.layers.MaxPooling2D())\n",
    "    model.add(keras.layers.Flatten())\n",
    "    model.add(keras.layers.Dense(420, activation='elu'))\n",
    "    model.add(keras.layers.Dropout(dropout))\n",
    "    model.add(keras.layers.Dense(160, activation='elu'))\n",
    "    model.add(keras.layers.Dense(42, activation='elu'))\n",
    "    model.add(keras.layers.Dense(7,activation='softmax'))\n",
    "    model.compile(optimizer='adam',loss='categorical_crossentropy', metrics=['accuracy'])\n",
    "    return model\n"
   ],
   "outputs": [],
   "metadata": {}
  },
  {
   "cell_type": "code",
   "execution_count": 21,
   "source": [
    "# Modelig data\n",
    "modeling = data_feed.PrepareData('daily__us__nasdaq_stocks.csv', '<DATE>', skip=5)\n",
    "modeling.clean_db()"
   ],
   "outputs": [],
   "metadata": {}
  },
  {
   "cell_type": "code",
   "execution_count": 22,
   "source": [
    "try:\n",
    "    VisFin = keras.models.load_model(model_name)\n",
    "    print('Loading!')\n",
    "except OSError:\n",
    "    VisFin = make_new_model(dropout=0.1)\n",
    "    print('Compiling!')"
   ],
   "outputs": [
    {
     "output_type": "stream",
     "name": "stdout",
     "text": [
      "Loading!\n"
     ]
    }
   ],
   "metadata": {}
  },
  {
   "cell_type": "code",
   "execution_count": 23,
   "source": [
    "# TRAINING\n",
    "data = modeling.mass_hacking(tick=0, horizon=42)\n",
    "tr_data = expand_dims(np.array(data[0]),axis=-1)\n",
    "tr_key = np.array(data[1])\n",
    "if tr_data.shape[0] > 0:\n",
    "    VisFin.fit(tr_data, tr_key, epochs=3, verbose=2)\n",
    "VisFin.save(model_name)\n"
   ],
   "outputs": [],
   "metadata": {
    "tags": []
   }
  },
  {
   "cell_type": "code",
   "execution_count": 24,
   "source": [
    "# # # convert to JS\n",
    "# import tensorflowjs\n",
    "# # tensorflowjs.converters.save_keras_model(VisFin0, 'js_format\\\\VisFin_0')\n",
    "# # tensorflowjs.converters.save_keras_model(VisFin1, 'js_format\\\\VisFin_1')\n",
    "# # tensorflowjs.converters.save_keras_model(VisFin2, 'js_format\\\\VisFin_2')\n",
    "# # tensorflowjs.converters.save_keras_model(VisFin3, 'js_format\\\\VisFin_3')\n"
   ],
   "outputs": [],
   "metadata": {}
  }
 ]
}