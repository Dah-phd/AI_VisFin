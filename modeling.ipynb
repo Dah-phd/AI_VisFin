{
 "metadata": {
  "language_info": {
   "codemirror_mode": {
    "name": "ipython",
    "version": 3
   },
   "file_extension": ".py",
   "mimetype": "text/x-python",
   "name": "python",
   "nbconvert_exporter": "python",
   "pygments_lexer": "ipython3",
   "version": "3.8.10"
  },
  "orig_nbformat": 2,
  "kernelspec": {
   "name": "python3",
   "display_name": "Python 3.8.10 64-bit"
  },
  "interpreter": {
   "hash": "31f2aee4e71d21fbe5cf8b01ff0e069b9275f58929596ceb00d14d90e3e16cd6"
  }
 },
 "nbformat": 4,
 "nbformat_minor": 2,
 "cells": [
  {
   "cell_type": "code",
   "execution_count": 15,
   "source": [
    "from tensorflow import keras, expand_dims\n",
    "import numpy as np\n",
    "model_name = 'VisFin_v5.h5'"
   ],
   "outputs": [],
   "metadata": {}
  },
  {
   "cell_type": "code",
   "execution_count": 16,
   "source": [
    "def make_new_model(dropout = 0):\n",
    "    model = keras.Sequential()\n",
    "    model.add(keras.layers.Conv2D(9, kernel_size = (9,9),padding='same', input_shape=(201, 43, 1), activation='elu'))\n",
    "    model.add(keras.layers.Dropout(dropout))\n",
    "    model.add(keras.layers.Conv2D(9, kernel_size = (9,9),padding='same', activation='elu'))\n",
    "    model.add(keras.layers.Dropout(dropout))\n",
    "    model.add(keras.layers.MaxPooling2D())\n",
    "    model.add(keras.layers.Conv2D(9, kernel_size = (6,6),padding='same', activation='elu'))\n",
    "    model.add(keras.layers.Dropout(dropout))\n",
    "    model.add(keras.layers.MaxPooling2D())\n",
    "    model.add(keras.layers.Flatten())\n",
    "    model.add(keras.layers.Dense(42, activation='elu'))\n",
    "    model.add(keras.layers.Dense(7,activation='softmax'))\n",
    "    model.compile(optimizer='adam',loss='categorical_crossentropy', metrics=['accuracy'])\n",
    "    return model\n"
   ],
   "outputs": [],
   "metadata": {}
  },
  {
   "cell_type": "code",
   "execution_count": 18,
   "source": [
    "from modules.data_feed import *\n",
    "modeling = PrepareData('historic_data.db', 'returns')\n",
    "a,b,c = modeling.make_graph('apple')\n"
   ],
   "outputs": [
    {
     "output_type": "stream",
     "name": "stdout",
     "text": [
      "Connected to returns table!\n"
     ]
    }
   ],
   "metadata": {}
  },
  {
   "cell_type": "code",
   "execution_count": 22,
   "source": [
    "try:\n",
    "    VisFin = keras.models.load_model(model_name)\n",
    "except OSError:\n",
    "    VisFin = make_new_model(dropout=0.3)"
   ],
   "outputs": [],
   "metadata": {}
  },
  {
   "cell_type": "code",
   "execution_count": 23,
   "source": [
    "# TRAINING\n",
    "for tick in range(3):\n",
    "    data = modeling.mass_hacking(tick=tick)\n",
    "    tr_data = expand_dims(np.array(data[0]),axis=-1)\n",
    "    tr_key = np.array(data[1])\n",
    "    VisFin.fit(tr_data, tr_key, epochs=3, verbose=2)\n",
    "VisFin.save(model_name)\n"
   ],
   "outputs": [
    {
     "output_type": "stream",
     "name": "stdout",
     "text": [
      "Epoch 1/3\n",
      "7/7 - 5s - loss: 0.8168 - accuracy: 0.7056\n",
      "Epoch 2/3\n",
      "7/7 - 5s - loss: 0.6242 - accuracy: 0.7766\n",
      "Epoch 3/3\n",
      "7/7 - 5s - loss: 0.3813 - accuracy: 0.8579\n",
      "Epoch 1/3\n",
      "7/7 - 5s - loss: 0.6564 - accuracy: 0.7437\n",
      "Epoch 2/3\n",
      "7/7 - 5s - loss: 0.4281 - accuracy: 0.8291\n",
      "Epoch 3/3\n",
      "7/7 - 5s - loss: 0.2897 - accuracy: 0.9146\n",
      "Epoch 1/3\n",
      "7/7 - 5s - loss: 0.4691 - accuracy: 0.8131\n",
      "Epoch 2/3\n",
      "7/7 - 5s - loss: 0.2497 - accuracy: 0.9141\n",
      "Epoch 3/3\n",
      "7/7 - 5s - loss: 0.1189 - accuracy: 0.9697\n"
     ]
    }
   ],
   "metadata": {
    "tags": []
   }
  },
  {
   "cell_type": "code",
   "execution_count": 20,
   "source": [
    "# # EVALUATE\n",
    "# for tick in range(5):\n",
    "#     data = modeling.mass_hacking(tick=tick)\n",
    "#     tr_data = expand_dims(np.array(data[0]),axis=-1)\n",
    "#     tr_key = np.array(data[1])\n",
    "#     # eval0 = VisFin0.evaluate(tr_data,tr_key, verbose=0)\n",
    "#     # eval1 = VisFin1.evaluate(tr_data,tr_key, verbose=0)\n",
    "#     # eval2 = VisFin2.evaluate(tr_data,tr_key, verbose=0)\n",
    "#     eval3 = VisFin3.evaluate(tr_data,tr_key, verbose=0)\n",
    "#     # print('VisFin0: ',eval0[0],eval0[1])\n",
    "#     # print('VisFin1: ',eval1[0],eval1[1])\n",
    "#     # print('VisFin2: ',eval2[0],eval2[1])\n",
    "#     print('VisFin3: ',eval3[0], eval3[1])"
   ],
   "outputs": [],
   "metadata": {}
  },
  {
   "cell_type": "code",
   "execution_count": 21,
   "source": [
    "# # # convert to JS\n",
    "# import tensorflowjs\n",
    "# # tensorflowjs.converters.save_keras_model(VisFin0, 'js_format\\\\VisFin_0')\n",
    "# # tensorflowjs.converters.save_keras_model(VisFin1, 'js_format\\\\VisFin_1')\n",
    "# # tensorflowjs.converters.save_keras_model(VisFin2, 'js_format\\\\VisFin_2')\n",
    "# # tensorflowjs.converters.save_keras_model(VisFin3, 'js_format\\\\VisFin_3')\n"
   ],
   "outputs": [],
   "metadata": {}
  }
 ]
}