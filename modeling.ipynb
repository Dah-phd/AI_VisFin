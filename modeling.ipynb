{
 "metadata": {
  "language_info": {
   "codemirror_mode": {
    "name": "ipython",
    "version": 3
   },
   "file_extension": ".py",
   "mimetype": "text/x-python",
   "name": "python",
   "nbconvert_exporter": "python",
   "pygments_lexer": "ipython3",
   "version": "3.8.8-final"
  },
  "orig_nbformat": 2,
  "kernelspec": {
   "name": "python3",
   "display_name": "Python 3.8.8 64-bit",
   "metadata": {
    "interpreter": {
     "hash": "e8204f705a2b0047c609b832591c294d2fbf9f3fca576c7087126c72ff5bcf09"
    }
   }
  }
 },
 "nbformat": 4,
 "nbformat_minor": 2,
 "cells": [
  {
   "cell_type": "code",
   "execution_count": 1,
   "metadata": {},
   "outputs": [],
   "source": [
    "from tensorflow import keras, expand_dims\n",
    "import numpy as np"
   ]
  },
  {
   "cell_type": "code",
   "execution_count": 10,
   "metadata": {},
   "outputs": [],
   "source": [
    "# VisFin = keras.Sequential()\n",
    "# VisFin.add(keras.layers.Conv2D(9, kernel_size=(9, 9),padding='same', input_shape=(201, 43, 1), activation='relu'))\n",
    "# VisFin.add(keras.layers.Conv2D(9, kernel_size = (9,9),padding='same', activation='relu'))\n",
    "# VisFin.add(keras.layers.MaxPooling2D())\n",
    "# VisFin.add(keras.layers.Conv2D(9, kernel_size = (6,6),padding='same', activation='relu'))\n",
    "# VisFin.add(keras.layers.MaxPooling2D())\n",
    "# VisFin.add(keras.layers.Flatten())\n",
    "# VisFin.add(keras.layers.Dense(42, activation='relu'))\n",
    "# VisFin.add(keras.layers.Dense(7,activation='softmax'))\n",
    "VisFin0 = keras.models.load_model('VisFin_v0.h5')\n",
    "VisFin1 = keras.models.load_model('VisFin_v1.h5')\n",
    "VisFin2 = keras.models.load_model('VisFin_v2.h5')"
   ]
  },
  {
   "cell_type": "code",
   "execution_count": 3,
   "metadata": {},
   "outputs": [],
   "source": [
    "# VisFin.compile(optimizer='adam',loss='categorical_crossentropy', metrics=['accuracy'])\n",
    "# categorical_crossentropy"
   ]
  },
  {
   "cell_type": "code",
   "execution_count": 6,
   "metadata": {},
   "outputs": [
    {
     "output_type": "stream",
     "name": "stdout",
     "text": [
      "Connected to returns table!\n"
     ]
    }
   ],
   "source": [
    "from modules.data_feed import *\n",
    "modeling = prepare_data('historic_data.db', 'returns')"
   ]
  },
  {
   "cell_type": "code",
   "execution_count": 9,
   "metadata": {
    "tags": []
   },
   "outputs": [],
   "source": [
    "# # TRAINING\n",
    "# for tick in range(3):\n",
    "#     data = modeling.mass_hacking(tick=tick)\n",
    "#     tr_data = expand_dims(np.array(data[0]),axis=-1)\n",
    "#     tr_key = np.array(data[1])\n",
    "#     VisFin1.fit(tr_data, tr_key,epochs=10, verbose=2)\n",
    "# VisFin1.save('VisFin_v2.h5')"
   ]
  },
  {
   "cell_type": "code",
   "execution_count": 11,
   "metadata": {},
   "outputs": [
    {
     "output_type": "stream",
     "name": "stdout",
     "text": [
      "VisFin0:  1.3711868524551392 0.5786802172660828\n",
      "VisFin1:  0.9638069272041321 0.6700507402420044\n",
      "VisFin2:  0.6496689319610596 0.8223350048065186\n",
      "VisFin0:  1.3497511148452759 0.581632673740387\n",
      "VisFin1:  0.8922596573829651 0.7346938848495483\n",
      "VisFin2:  0.3847774863243103 0.918367326259613\n",
      "VisFin0:  1.02797532081604 0.6565656661987305\n",
      "VisFin1:  0.7067537903785706 0.7828282713890076\n",
      "VisFin2:  0.010154048912227154 1.0\n",
      "VisFin0:  0.31826141476631165 0.8939393758773804\n",
      "VisFin1:  0.060586750507354736 0.9797979593276978\n",
      "VisFin2:  0.41212040185928345 0.9090909361839294\n",
      "VisFin0:  0.042856547981500626 0.9883720874786377\n",
      "VisFin1:  0.0028705329168587923 1.0\n",
      "VisFin2:  0.2637484669685364 0.9127907156944275\n"
     ]
    }
   ],
   "source": [
    "# # EVALUATE\n",
    "# for tick in range(5):\n",
    "#     data = modeling.mass_hacking(tick=tick)\n",
    "#     tr_data = expand_dims(np.array(data[0]),axis=-1)\n",
    "#     tr_key = np.array(data[1])\n",
    "#     eval0 = VisFin0.evaluate(tr_data,tr_key, verbose=0)\n",
    "#     eval1 = VisFin1.evaluate(tr_data,tr_key, verbose=0)\n",
    "#     eval2 = VisFin2.evaluate(tr_data,tr_key, verbose=0)\n",
    "#     print('VisFin0: ',eval0[0],eval0[1])\n",
    "#     print('VisFin1: ',eval1[0],eval1[1])\n",
    "#     print('VisFin2: ',eval2[0],eval2[1])"
   ]
  },
  {
   "cell_type": "code",
   "execution_count": 14,
   "metadata": {},
   "outputs": [],
   "source": [
    "# convert to JS\n",
    "import tensorflowjs\n",
    "tensorflowjs.converters.save_keras_model(VisFin0, 'js_format\\\\VisFin_0')\n",
    "tensorflowjs.converters.save_keras_model(VisFin1, 'js_format\\\\VisFin_1')\n",
    "tensorflowjs.converters.save_keras_model(VisFin2, 'js_format\\\\VisFin_2')\n"
   ]
  }
 ]
}