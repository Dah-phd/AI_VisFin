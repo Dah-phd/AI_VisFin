{
 "cells": [
  {
   "cell_type": "code",
   "execution_count": 1,
   "metadata": {},
   "outputs": [],
   "source": [
    "from tensorflow import keras, expand_dims\n",
    "import numpy as np\n",
    "from modules import data_feed\n",
    "model_name = 'VisFin_v6_20drop00007lr_20validate.h5'\n"
   ]
  },
  {
   "cell_type": "code",
   "execution_count": 2,
   "metadata": {},
   "outputs": [],
   "source": [
    "def make_new_model(dropout = 0):\n",
    "    model = keras.Sequential()\n",
    "    model.add(keras.layers.Conv2D(9, kernel_size = (9,18),padding='same', input_shape=(201, 43, 1), activation='elu'))\n",
    "    model.add(keras.layers.Dropout(dropout))\n",
    "    model.add(keras.layers.Conv2D(9, kernel_size = (9,18), padding='same', activation='elu'))\n",
    "    model.add(keras.layers.Dropout(dropout))\n",
    "    model.add(keras.layers.MaxPooling2D())\n",
    "    model.add(keras.layers.Conv2D(9, kernel_size = (6,12),padding='same', activation='elu'))\n",
    "    model.add(keras.layers.Dropout(dropout))\n",
    "    model.add(keras.layers.MaxPooling2D())\n",
    "    model.add(keras.layers.Flatten())\n",
    "    model.add(keras.layers.Dense(420, activation='elu'))\n",
    "    model.add(keras.layers.Dropout(dropout))\n",
    "    model.add(keras.layers.Dense(160, activation='elu'))\n",
    "    model.add(keras.layers.Dense(42, activation='elu'))\n",
    "    model.add(keras.layers.Dense(7,activation='softmax'))\n",
    "    model.compile(optimizer='adam',loss='categorical_crossentropy', metrics=['accuracy'])\n",
    "    return model\n"
   ]
  },
  {
   "cell_type": "code",
   "execution_count": 3,
   "metadata": {},
   "outputs": [
    {
     "name": "stdout",
     "output_type": "stream",
     "text": [
      "Compiling!\n",
      "VisFin_v6_20drop00007lr_20validate.h5 saved!\n"
     ]
    }
   ],
   "source": [
    "try:\n",
    "    VisFin = keras.models.load_model(model_name)\n",
    "    print('Already exists!')\n",
    "except OSError:\n",
    "    VisFin = make_new_model(dropout=0.2)\n",
    "    keras.backend.set_value(VisFin.optimizer.learning_rate, 0.0007)\n",
    "    print('Compiling!')\n",
    "    VisFin.save(model_name)\n",
    "    print(f'{model_name} saved!')"
   ]
  },
  {
   "cell_type": "code",
   "execution_count": 4,
   "metadata": {},
   "outputs": [
    {
     "ename": "ModuleNotFoundError",
     "evalue": "No module named 'tensorflowjs'",
     "output_type": "error",
     "traceback": [
      "\u001b[1;31m---------------------------------------------------------------------------\u001b[0m",
      "\u001b[1;31mModuleNotFoundError\u001b[0m                       Traceback (most recent call last)",
      "\u001b[1;32m~\\AppData\\Local\\Temp/ipykernel_6272/343392845.py\u001b[0m in \u001b[0;36m<module>\u001b[1;34m\u001b[0m\n\u001b[0;32m      1\u001b[0m \u001b[1;31m# # convert to JS\u001b[0m\u001b[1;33m\u001b[0m\u001b[1;33m\u001b[0m\u001b[0m\n\u001b[1;32m----> 2\u001b[1;33m \u001b[1;32mimport\u001b[0m \u001b[0mtensorflowjs\u001b[0m\u001b[1;33m\u001b[0m\u001b[1;33m\u001b[0m\u001b[0m\n\u001b[0m\u001b[0;32m      3\u001b[0m \u001b[0mtensorflowjs\u001b[0m\u001b[1;33m.\u001b[0m\u001b[0mconverters\u001b[0m\u001b[1;33m.\u001b[0m\u001b[0msave_keras_model\u001b[0m\u001b[1;33m(\u001b[0m\u001b[0mVisFin\u001b[0m\u001b[1;33m,\u001b[0m \u001b[1;34mf'js_format/{model_name.split(\".\")[0]}'\u001b[0m\u001b[1;33m)\u001b[0m\u001b[1;33m\u001b[0m\u001b[1;33m\u001b[0m\u001b[0m\n",
      "\u001b[1;31mModuleNotFoundError\u001b[0m: No module named 'tensorflowjs'"
     ]
    }
   ],
   "source": [
    "# # convert to JS\n",
    "import tensorflowjs\n",
    "tensorflowjs.converters.save_keras_model(VisFin, f'js_format/{model_name.split(\".\")[0]}')"
   ]
  }
 ],
 "metadata": {
  "interpreter": {
   "hash": "31f2aee4e71d21fbe5cf8b01ff0e069b9275f58929596ceb00d14d90e3e16cd6"
  },
  "kernelspec": {
   "display_name": "Python 3.8.10 64-bit",
   "name": "python3"
  },
  "language_info": {
   "codemirror_mode": {
    "name": "ipython",
    "version": 3
   },
   "file_extension": ".py",
   "mimetype": "text/x-python",
   "name": "python",
   "nbconvert_exporter": "python",
   "pygments_lexer": "ipython3",
   "version": "3.9.9"
  },
  "orig_nbformat": 2
 },
 "nbformat": 4,
 "nbformat_minor": 2
}
