{
 "metadata": {
  "language_info": {
   "codemirror_mode": {
    "name": "ipython",
    "version": 3
   },
   "file_extension": ".py",
   "mimetype": "text/x-python",
   "name": "python",
   "nbconvert_exporter": "python",
   "pygments_lexer": "ipython3",
   "version": "3.8.10"
  },
  "orig_nbformat": 2,
  "kernelspec": {
   "name": "python3",
   "display_name": "Python 3.8.10 64-bit"
  },
  "interpreter": {
   "hash": "31f2aee4e71d21fbe5cf8b01ff0e069b9275f58929596ceb00d14d90e3e16cd6"
  }
 },
 "nbformat": 4,
 "nbformat_minor": 2,
 "cells": [
  {
   "cell_type": "code",
   "execution_count": 1,
   "source": [
    "from tensorflow import keras, expand_dims\n",
    "import numpy as np\n",
    "model_name = 'VisCV_v5.h5'"
   ],
   "outputs": [],
   "metadata": {}
  },
  {
   "cell_type": "code",
   "execution_count": 2,
   "source": [
    "def make_new_model(dropout = 0):\n",
    "    model = keras.Sequential()\n",
    "    model.add(keras.layers.Conv2D(9, kernel_size = (18,36),padding='same', input_shape=(201, 85, 1), activation='elu'))\n",
    "    model.add(keras.layers.Dropout(dropout))\n",
    "    model.add(keras.layers.Conv2D(9, kernel_size = (18,36), padding='same', activation='elu'))\n",
    "    model.add(keras.layers.Dropout(dropout))\n",
    "    model.add(keras.layers.Conv2D(9, kernel_size = (18,36), padding='same', activation='elu'))\n",
    "    model.add(keras.layers.Dropout(dropout))\n",
    "    model.add(keras.layers.MaxPooling2D())\n",
    "    model.add(keras.layers.Conv2D(9, kernel_size = (9,18),padding='same', activation='elu'))\n",
    "    model.add(keras.layers.Dropout(dropout))\n",
    "    model.add(keras.layers.Conv2D(9, kernel_size = (9,18), padding='same', activation='elu'))\n",
    "    model.add(keras.layers.Dropout(dropout))\n",
    "    model.add(keras.layers.MaxPooling2D())\n",
    "    model.add(keras.layers.Flatten())\n",
    "    model.add(keras.layers.Dense(168, activation='elu'))\n",
    "    model.add(keras.layers.Dense(84, activation='elu'))\n",
    "    model.add(keras.layers.Dense(56, activation='elu'))\n",
    "    model.add(keras.layers.Dense(7,activation='softmax'))\n",
    "    model.compile(optimizer='adam',loss='categorical_crossentropy', metrics=['accuracy'])\n",
    "    return model\n"
   ],
   "outputs": [],
   "metadata": {}
  },
  {
   "cell_type": "code",
   "execution_count": 3,
   "source": [
    "from modules.data_feed import *\n",
    "modeling = PrepareData('daily__us__nasdaq_stocks.csv', '<DATE>', skip=5)\n",
    "modeling.clean_db()"
   ],
   "outputs": [],
   "metadata": {}
  },
  {
   "cell_type": "code",
   "execution_count": 4,
   "source": [
    "try:\n",
    "    VisCV = keras.models.load_model(model_name)\n",
    "    print('Loading!')\n",
    "except OSError:\n",
    "    VisCV = make_new_model(dropout=0.3)\n",
    "    print('Compiling!')"
   ],
   "outputs": [
    {
     "output_type": "stream",
     "name": "stdout",
     "text": [
      "Loading!\n"
     ]
    }
   ],
   "metadata": {}
  },
  {
   "cell_type": "code",
   "execution_count": 5,
   "source": [
    "# # TRAINING\n",
    "# data = modeling.mass_hacking(tick=1, horizon=84)\n",
    "# tr_data = expand_dims(np.array(data[0]),axis=-1)\n",
    "# tr_key = np.array(data[1])\n",
    "# if tr_data.shape[0] > 0:\n",
    "#     VisCV.fit(tr_data, tr_key, epochs=3, verbose=2)\n",
    "VisCV.save(model_name)\n"
   ],
   "outputs": [],
   "metadata": {
    "tags": []
   }
  },
  {
   "cell_type": "code",
   "execution_count": 6,
   "source": [
    "# EVALUATE\n",
    "data = modeling.mass_hacking(tick=0, horizon=84)\n",
    "tr_data = expand_dims(np.array(data[0]),axis=-1)\n",
    "tr_key = np.array(data[1])\n",
    "eval_ = VisCV.evaluate(tr_data,tr_key, verbose=1)\n",
    "# print('VisFin0: ',eval0[0],eval0[1])\n",
    "# print('VisFin1: ',eval1[0],eval1[1])\n",
    "# print('VisFin2: ',eval2[0],eval2[1])\n",
    "print(model_name+': ',eval_[0], eval_[1])"
   ],
   "outputs": [
    {
     "output_type": "stream",
     "name": "stdout",
     "text": [
      "67/67 [==============================] - 7s 55ms/step - loss: 0.8271 - accuracy: 0.7608\n",
      "VisCV_v5.h5:  0.8270650506019592 0.7608286142349243\n"
     ]
    }
   ],
   "metadata": {}
  },
  {
   "cell_type": "code",
   "execution_count": 7,
   "source": [
    "# # # convert to JS\n",
    "# import tensorflowjs\n",
    "# # tensorflowjs.converters.save_keras_model(VisFin0, 'js_format\\\\VisFin_0')\n",
    "# # tensorflowjs.converters.save_keras_model(VisFin1, 'js_format\\\\VisFin_1')\n",
    "# # tensorflowjs.converters.save_keras_model(VisFin2, 'js_format\\\\VisFin_2')\n",
    "# # tensorflowjs.converters.save_keras_model(VisFin3, 'js_format\\\\VisFin_3')\n"
   ],
   "outputs": [],
   "metadata": {}
  }
 ]
}