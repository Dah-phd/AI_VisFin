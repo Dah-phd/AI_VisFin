{
 "metadata": {
  "language_info": {
   "codemirror_mode": {
    "name": "ipython",
    "version": 3
   },
   "file_extension": ".py",
   "mimetype": "text/x-python",
   "name": "python",
   "nbconvert_exporter": "python",
   "pygments_lexer": "ipython3",
   "version": "3.8.10"
  },
  "orig_nbformat": 2,
  "kernelspec": {
   "name": "python3",
   "display_name": "Python 3.8.10 64-bit"
  },
  "interpreter": {
   "hash": "916dbcbb3f70747c44a77c7bcd40155683ae19c65e1c03b4aa3499c5328201f1"
  }
 },
 "nbformat": 4,
 "nbformat_minor": 2,
 "cells": [
  {
   "cell_type": "code",
   "execution_count": 20,
   "source": [
    "from tensorflow import keras, expand_dims\n",
    "import numpy as np"
   ],
   "outputs": [],
   "metadata": {}
  },
  {
   "cell_type": "code",
   "execution_count": 21,
   "source": [
    "# VisFin = keras.Sequential()\n",
    "# VisFin.add(keras.layers.Conv2D(9, kernel_size = (9,9),padding='same', input_shape=(201, 43, 1), activation='relu'))\n",
    "# VisFin.add(keras.layers.Conv2D(9, kernel_size = (9,9),padding='same', activation='relu'))\n",
    "# VisFin.add(keras.layers.MaxPooling2D())\n",
    "# VisFin.add(keras.layers.Conv2D(9, kernel_size = (6,6),padding='same', activation='relu'))\n",
    "# VisFin.add(keras.layers.MaxPooling2D())\n",
    "# VisFin.add(keras.layers.Flatten())\n",
    "# VisFin.add(keras.layers.Dense(42, activation='relu'))\n",
    "# VisFin.add(keras.layers.Dense(7,activation='softmax'))\n",
    "# VisFin0 = keras.models.load_model('VisFin_v0.h5')\n",
    "# VisFin1 = keras.models.load_model('VisFin_v1.h5')\n",
    "# VisFin2 = keras.models.load_model('VisFin_v2.h5')\n",
    "VisFin3 = keras.models.load_model('VisFin_v3.h5')"
   ],
   "outputs": [],
   "metadata": {}
  },
  {
   "cell_type": "code",
   "execution_count": 22,
   "source": [
    "# VisFin.compile(optimizer='adam',loss='categorical_crossentropy', metrics=['accuracy'])\n",
    "# categorical_crossentropy"
   ],
   "outputs": [],
   "metadata": {}
  },
  {
   "cell_type": "code",
   "execution_count": 23,
   "source": [
    "from modules.data_feed import *\n",
    "modeling = PrepareData('historic_data.db', 'returns')\n",
    "a,b,c = modeling.make_graph('apple')\n"
   ],
   "outputs": [
    {
     "output_type": "stream",
     "name": "stdout",
     "text": [
      "Connected to returns table!\n"
     ]
    }
   ],
   "metadata": {}
  },
  {
   "cell_type": "code",
   "execution_count": 24,
   "source": [
    "# # TRAINING\n",
    "# for tick in range(3):\n",
    "#     data = modeling.mass_hacking(tick=tick)\n",
    "#     tr_data = expand_dims(np.array(data[0]),axis=-1)\n",
    "#     tr_key = np.array(data[1])\n",
    "#     VisFin3.fit(tr_data, tr_key, epochs=10, verbose=2)\n",
    "# VisFin3.save('VisFin_v3.h5')\n"
   ],
   "outputs": [],
   "metadata": {
    "tags": []
   }
  },
  {
   "cell_type": "code",
   "execution_count": 25,
   "source": [
    "# EVALUATE\n",
    "for tick in range(5):\n",
    "    data = modeling.mass_hacking(tick=tick)\n",
    "    tr_data = expand_dims(np.array(data[0]),axis=-1)\n",
    "    tr_key = np.array(data[1])\n",
    "    # eval0 = VisFin0.evaluate(tr_data,tr_key, verbose=0)\n",
    "    # eval1 = VisFin1.evaluate(tr_data,tr_key, verbose=0)\n",
    "    # eval2 = VisFin2.evaluate(tr_data,tr_key, verbose=0)\n",
    "    eval3 = VisFin3.evaluate(tr_data,tr_key, verbose=0)\n",
    "    # print('VisFin0: ',eval0[0],eval0[1])\n",
    "    # print('VisFin1: ',eval1[0],eval1[1])\n",
    "    # print('VisFin2: ',eval2[0],eval2[1])\n",
    "    print('VisFin3: ',eval3[0], eval3[1])"
   ],
   "outputs": [
    {
     "output_type": "stream",
     "name": "stdout",
     "text": [
      "VisFin3:  1.1979341506958008 0.6294416189193726\n",
      "VisFin3:  0.7056297659873962 0.7487437129020691\n",
      "VisFin3:  0.06867163628339767 0.9949495196342468\n",
      "VisFin3:  10.485092163085938 0.1354166716337204\n",
      "VisFin3:  13.687849998474121 0.1666666716337204\n"
     ]
    }
   ],
   "metadata": {}
  },
  {
   "cell_type": "code",
   "execution_count": 26,
   "source": [
    "# # convert to JS\n",
    "import tensorflowjs\n",
    "# tensorflowjs.converters.save_keras_model(VisFin0, 'js_format/VisFin_0')\n",
    "# tensorflowjs.converters.save_keras_model(VisFin1, 'js_format/VisFin_1')\n",
    "# tensorflowjs.converters.save_keras_model(VisFin2, 'js_format/VisFin_2')\n",
    "tensorflowjs.converters.save_keras_model(VisFin3, 'js_format/VisFin_3')\n"
   ],
   "outputs": [],
   "metadata": {}
  }
 ]
}